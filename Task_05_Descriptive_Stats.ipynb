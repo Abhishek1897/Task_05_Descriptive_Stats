{
 "cells": [
  {
   "cell_type": "code",
   "execution_count": 1,
   "id": "91d1bfb7",
   "metadata": {},
   "outputs": [
    {
     "name": "stderr",
     "output_type": "stream",
     "text": [
      "c:\\Users\\abhis\\anaconda3\\Lib\\site-packages\\pandas\\core\\arrays\\masked.py:60: UserWarning: Pandas requires version '1.3.6' or newer of 'bottleneck' (version '1.3.5' currently installed).\n",
      "  from pandas.core import (\n"
     ]
    }
   ],
   "source": [
    "import pandas as pd\n",
    "\n",
    "# Load all CSV files provided by the user\n",
    "game_schedule = pd.read_csv(\"game_schedule.csv\")\n",
    "period_stats = pd.read_csv(\"period_stats.csv\")\n",
    "player_stats = pd.read_csv(\"player_stats.csv\")\n",
    "team_stats = pd.read_csv(\"team_stats.csv\")"
   ]
  },
  {
   "cell_type": "code",
   "execution_count": 4,
   "id": "f009ece4",
   "metadata": {},
   "outputs": [
    {
     "data": {
      "text/html": [
       "<div>\n",
       "<style scoped>\n",
       "    .dataframe tbody tr th:only-of-type {\n",
       "        vertical-align: middle;\n",
       "    }\n",
       "\n",
       "    .dataframe tbody tr th {\n",
       "        vertical-align: top;\n",
       "    }\n",
       "\n",
       "    .dataframe thead th {\n",
       "        text-align: right;\n",
       "    }\n",
       "</style>\n",
       "<table border=\"1\" class=\"dataframe\">\n",
       "  <thead>\n",
       "    <tr style=\"text-align: right;\">\n",
       "      <th></th>\n",
       "      <th>Statistic</th>\n",
       "      <th>SU</th>\n",
       "      <th>OPP</th>\n",
       "    </tr>\n",
       "  </thead>\n",
       "  <tbody>\n",
       "    <tr>\n",
       "      <th>0</th>\n",
       "      <td>Goals-Shot attempts</td>\n",
       "      <td>119-241</td>\n",
       "      <td>48-123</td>\n",
       "    </tr>\n",
       "    <tr>\n",
       "      <th>1</th>\n",
       "      <td>Goals scored per game</td>\n",
       "      <td>17</td>\n",
       "      <td>6.86</td>\n",
       "    </tr>\n",
       "    <tr>\n",
       "      <th>2</th>\n",
       "      <td>Shot pct.</td>\n",
       "      <td>0.494</td>\n",
       "      <td>0.39</td>\n",
       "    </tr>\n",
       "    <tr>\n",
       "      <th>3</th>\n",
       "      <td>Shots on goal-Attempts</td>\n",
       "      <td>185-241</td>\n",
       "      <td>88-123</td>\n",
       "    </tr>\n",
       "    <tr>\n",
       "      <th>4</th>\n",
       "      <td>SOG pct.</td>\n",
       "      <td>0.768</td>\n",
       "      <td>0.715</td>\n",
       "    </tr>\n",
       "  </tbody>\n",
       "</table>\n",
       "</div>"
      ],
      "text/plain": [
       "                Statistic       SU     OPP\n",
       "0     Goals-Shot attempts  119-241  48-123\n",
       "1   Goals scored per game       17    6.86\n",
       "2               Shot pct.    0.494    0.39\n",
       "3  Shots on goal-Attempts  185-241  88-123\n",
       "4                SOG pct.    0.768   0.715"
      ]
     },
     "execution_count": 4,
     "metadata": {},
     "output_type": "execute_result"
    }
   ],
   "source": [
    "# Display the first few rows of each file to confirm successful loading\n",
    "game_schedule.head()\n",
    "period_stats.head()\n",
    "team_stats.head()"
   ]
  },
  {
   "cell_type": "markdown",
   "id": "26479379",
   "metadata": {},
   "source": [
    "# Q1: How many games did SU play?"
   ]
  },
  {
   "cell_type": "code",
   "execution_count": 6,
   "id": "bcaea043",
   "metadata": {},
   "outputs": [
    {
     "data": {
      "text/plain": [
       "'Total games played: 7'"
      ]
     },
     "execution_count": 6,
     "metadata": {},
     "output_type": "execute_result"
    }
   ],
   "source": [
    "total_games = len(game_schedule)\n",
    "q1_result = f\"Total games played: {total_games}\"\n",
    "q1_result"
   ]
  },
  {
   "cell_type": "markdown",
   "id": "56cfa75b",
   "metadata": {},
   "source": [
    "# Q2: How many games were wins vs losses?"
   ]
  },
  {
   "cell_type": "code",
   "execution_count": 8,
   "id": "f8583252",
   "metadata": {},
   "outputs": [
    {
     "data": {
      "text/plain": [
       "'Wins: 6, Losses: 1'"
      ]
     },
     "execution_count": 8,
     "metadata": {},
     "output_type": "execute_result"
    }
   ],
   "source": [
    "wins = len(game_schedule[game_schedule[\"Result\"].str.startswith(\"W\")])\n",
    "losses = total_games - wins\n",
    "q2_result = f\"Wins: {wins}, Losses: {losses}\"\n",
    "q2_result"
   ]
  },
  {
   "cell_type": "markdown",
   "id": "679d174c",
   "metadata": {},
   "source": [
    "# Q3: Top 5 players by goals"
   ]
  },
  {
   "cell_type": "code",
   "execution_count": 10,
   "id": "9057e1bc",
   "metadata": {},
   "outputs": [
    {
     "data": {
      "text/html": [
       "<div>\n",
       "<style scoped>\n",
       "    .dataframe tbody tr th:only-of-type {\n",
       "        vertical-align: middle;\n",
       "    }\n",
       "\n",
       "    .dataframe tbody tr th {\n",
       "        vertical-align: top;\n",
       "    }\n",
       "\n",
       "    .dataframe thead th {\n",
       "        text-align: right;\n",
       "    }\n",
       "</style>\n",
       "<table border=\"1\" class=\"dataframe\">\n",
       "  <thead>\n",
       "    <tr style=\"text-align: right;\">\n",
       "      <th></th>\n",
       "      <th>PLAYER</th>\n",
       "      <th>G</th>\n",
       "    </tr>\n",
       "  </thead>\n",
       "  <tbody>\n",
       "    <tr>\n",
       "      <th>0</th>\n",
       "      <td>Emily Hawryschuk</td>\n",
       "      <td>35</td>\n",
       "    </tr>\n",
       "    <tr>\n",
       "      <th>1</th>\n",
       "      <td>Megan Carney</td>\n",
       "      <td>18</td>\n",
       "    </tr>\n",
       "    <tr>\n",
       "      <th>2</th>\n",
       "      <td>Meaghan Tyrrell</td>\n",
       "      <td>15</td>\n",
       "    </tr>\n",
       "    <tr>\n",
       "      <th>4</th>\n",
       "      <td>Sierra Cockerille</td>\n",
       "      <td>11</td>\n",
       "    </tr>\n",
       "    <tr>\n",
       "      <th>3</th>\n",
       "      <td>Sam Swart</td>\n",
       "      <td>10</td>\n",
       "    </tr>\n",
       "  </tbody>\n",
       "</table>\n",
       "</div>"
      ],
      "text/plain": [
       "              PLAYER   G\n",
       "0   Emily Hawryschuk  35\n",
       "1       Megan Carney  18\n",
       "2    Meaghan Tyrrell  15\n",
       "4  Sierra Cockerille  11\n",
       "3          Sam Swart  10"
      ]
     },
     "execution_count": 10,
     "metadata": {},
     "output_type": "execute_result"
    }
   ],
   "source": [
    "top_goals = player_stats.sort_values(\"G\", ascending=False)[[\"PLAYER\", \"G\"]].head(5)\n",
    "top_goals"
   ]
  },
  {
   "cell_type": "markdown",
   "id": "0055057e",
   "metadata": {},
   "source": [
    "# Q4: Top 5 players by draw controls"
   ]
  },
  {
   "cell_type": "code",
   "execution_count": 11,
   "id": "cfdcadcf",
   "metadata": {},
   "outputs": [
    {
     "data": {
      "text/html": [
       "<div>\n",
       "<style scoped>\n",
       "    .dataframe tbody tr th:only-of-type {\n",
       "        vertical-align: middle;\n",
       "    }\n",
       "\n",
       "    .dataframe tbody tr th {\n",
       "        vertical-align: top;\n",
       "    }\n",
       "\n",
       "    .dataframe thead th {\n",
       "        text-align: right;\n",
       "    }\n",
       "</style>\n",
       "<table border=\"1\" class=\"dataframe\">\n",
       "  <thead>\n",
       "    <tr style=\"text-align: right;\">\n",
       "      <th></th>\n",
       "      <th>PLAYER</th>\n",
       "      <th>DC</th>\n",
       "    </tr>\n",
       "  </thead>\n",
       "  <tbody>\n",
       "    <tr>\n",
       "      <th>0</th>\n",
       "      <td>Emily Hawryschuk</td>\n",
       "      <td>16</td>\n",
       "    </tr>\n",
       "    <tr>\n",
       "      <th>14</th>\n",
       "      <td>Ella Simkins</td>\n",
       "      <td>12</td>\n",
       "    </tr>\n",
       "    <tr>\n",
       "      <th>24</th>\n",
       "      <td>Sarah Cooper</td>\n",
       "      <td>5</td>\n",
       "    </tr>\n",
       "    <tr>\n",
       "      <th>7</th>\n",
       "      <td>Bianca Chevarie</td>\n",
       "      <td>4</td>\n",
       "    </tr>\n",
       "    <tr>\n",
       "      <th>21</th>\n",
       "      <td>Hallie Simkins</td>\n",
       "      <td>3</td>\n",
       "    </tr>\n",
       "  </tbody>\n",
       "</table>\n",
       "</div>"
      ],
      "text/plain": [
       "              PLAYER  DC\n",
       "0   Emily Hawryschuk  16\n",
       "14      Ella Simkins  12\n",
       "24      Sarah Cooper   5\n",
       "7    Bianca Chevarie   4\n",
       "21    Hallie Simkins   3"
      ]
     },
     "execution_count": 11,
     "metadata": {},
     "output_type": "execute_result"
    }
   ],
   "source": [
    "top_draw_controls = player_stats.sort_values(\"DC\", ascending=False)[[\"PLAYER\", \"DC\"]].head(5)\n",
    "top_draw_controls"
   ]
  },
  {
   "cell_type": "markdown",
   "id": "5f8d0f92",
   "metadata": {},
   "source": [
    "# Q5: Average attendance by game location"
   ]
  },
  {
   "cell_type": "code",
   "execution_count": 12,
   "id": "e2b99992",
   "metadata": {},
   "outputs": [
    {
     "data": {
      "text/plain": [
       "Location\n",
       "Away    455.0\n",
       "Home    491.6\n",
       "Name: Att., dtype: float64"
      ]
     },
     "execution_count": 12,
     "metadata": {},
     "output_type": "execute_result"
    }
   ],
   "source": [
    "def classify_location(opponent):\n",
    "    if str(opponent).startswith(\"at\"):\n",
    "        return \"Away\"\n",
    "    elif \"vs\" in str(opponent):\n",
    "        return \"Neutral\"\n",
    "    else:\n",
    "        return \"Home\"\n",
    "\n",
    "game_schedule[\"Location\"] = game_schedule[\"Opponent\"].apply(classify_location)\n",
    "attendance_avg = game_schedule.groupby(\"Location\")[\"Att.\"].mean()\n",
    "attendance_avg"
   ]
  },
  {
   "cell_type": "markdown",
   "id": "83d3dc25",
   "metadata": {},
   "source": [
    "# Q6: Does Syracuse score more in the 1st or 2nd half?"
   ]
  },
  {
   "cell_type": "code",
   "execution_count": 18,
   "id": "1e86fce8",
   "metadata": {},
   "outputs": [
    {
     "data": {
      "text/html": [
       "<div>\n",
       "<style scoped>\n",
       "    .dataframe tbody tr th:only-of-type {\n",
       "        vertical-align: middle;\n",
       "    }\n",
       "\n",
       "    .dataframe tbody tr th {\n",
       "        vertical-align: top;\n",
       "    }\n",
       "\n",
       "    .dataframe thead th {\n",
       "        text-align: right;\n",
       "    }\n",
       "</style>\n",
       "<table border=\"1\" class=\"dataframe\">\n",
       "  <thead>\n",
       "    <tr style=\"text-align: right;\">\n",
       "      <th></th>\n",
       "      <th>Category</th>\n",
       "      <th>Team</th>\n",
       "      <th>1st</th>\n",
       "      <th>2nd</th>\n",
       "      <th>Total</th>\n",
       "    </tr>\n",
       "  </thead>\n",
       "  <tbody>\n",
       "    <tr>\n",
       "      <th>0</th>\n",
       "      <td>Goals by Period</td>\n",
       "      <td>Syracuse</td>\n",
       "      <td>68</td>\n",
       "      <td>51</td>\n",
       "      <td>119</td>\n",
       "    </tr>\n",
       "    <tr>\n",
       "      <th>1</th>\n",
       "      <td>Goals by Period</td>\n",
       "      <td>Opponents</td>\n",
       "      <td>21</td>\n",
       "      <td>27</td>\n",
       "      <td>48</td>\n",
       "    </tr>\n",
       "  </tbody>\n",
       "</table>\n",
       "</div>"
      ],
      "text/plain": [
       "          Category       Team  1st  2nd  Total\n",
       "0  Goals by Period   Syracuse   68   51    119\n",
       "1  Goals by Period  Opponents   21   27     48"
      ]
     },
     "execution_count": 18,
     "metadata": {},
     "output_type": "execute_result"
    }
   ],
   "source": [
    "goals_by_period = period_stats[period_stats[\"Category\"] == \"Goals by Period\"]\n",
    "su_goals_first = goals_by_period.loc[goals_by_period[\"Team\"] == \"Syracuse\", \"1st\"].values[0]\n",
    "su_goals_second = goals_by_period.loc[goals_by_period[\"Team\"] == \"Syracuse\", \"2nd\"].values[0]\n",
    "goals_by_period\n",
    "\n"
   ]
  },
  {
   "cell_type": "markdown",
   "id": "f236a9fb",
   "metadata": {},
   "source": [
    "# Q7: Which players contribute significantly to both offense and defense?"
   ]
  },
  {
   "cell_type": "code",
   "execution_count": 20,
   "id": "cc0e6c14",
   "metadata": {},
   "outputs": [
    {
     "data": {
      "text/html": [
       "<div>\n",
       "<style scoped>\n",
       "    .dataframe tbody tr th:only-of-type {\n",
       "        vertical-align: middle;\n",
       "    }\n",
       "\n",
       "    .dataframe tbody tr th {\n",
       "        vertical-align: top;\n",
       "    }\n",
       "\n",
       "    .dataframe thead th {\n",
       "        text-align: right;\n",
       "    }\n",
       "</style>\n",
       "<table border=\"1\" class=\"dataframe\">\n",
       "  <thead>\n",
       "    <tr style=\"text-align: right;\">\n",
       "      <th></th>\n",
       "      <th>PLAYER</th>\n",
       "      <th>Offense</th>\n",
       "      <th>Defense</th>\n",
       "    </tr>\n",
       "  </thead>\n",
       "  <tbody>\n",
       "    <tr>\n",
       "      <th>0</th>\n",
       "      <td>Emily Hawryschuk</td>\n",
       "      <td>39</td>\n",
       "      <td>34</td>\n",
       "    </tr>\n",
       "    <tr>\n",
       "      <th>1</th>\n",
       "      <td>Megan Carney</td>\n",
       "      <td>29</td>\n",
       "      <td>7</td>\n",
       "    </tr>\n",
       "    <tr>\n",
       "      <th>2</th>\n",
       "      <td>Meaghan Tyrrell</td>\n",
       "      <td>23</td>\n",
       "      <td>12</td>\n",
       "    </tr>\n",
       "    <tr>\n",
       "      <th>3</th>\n",
       "      <td>Sam Swart</td>\n",
       "      <td>18</td>\n",
       "      <td>6</td>\n",
       "    </tr>\n",
       "    <tr>\n",
       "      <th>4</th>\n",
       "      <td>Sierra Cockerille</td>\n",
       "      <td>15</td>\n",
       "      <td>2</td>\n",
       "    </tr>\n",
       "  </tbody>\n",
       "</table>\n",
       "</div>"
      ],
      "text/plain": [
       "              PLAYER  Offense  Defense\n",
       "0   Emily Hawryschuk       39       34\n",
       "1       Megan Carney       29        7\n",
       "2    Meaghan Tyrrell       23       12\n",
       "3          Sam Swart       18        6\n",
       "4  Sierra Cockerille       15        2"
      ]
     },
     "execution_count": 20,
     "metadata": {},
     "output_type": "execute_result"
    }
   ],
   "source": [
    "player_stats[\"Offense\"] = player_stats[\"G\"] + player_stats[\"A\"]\n",
    "player_stats[\"Defense\"] = player_stats[\"GB\"] + player_stats[\"DC\"] + player_stats[\"CT\"]\n",
    "top_balanced = player_stats.sort_values(by=[\"Offense\", \"Defense\"], ascending=False)[[\"PLAYER\", \"Offense\", \"Defense\"]].head(5)\n",
    "top_balanced"
   ]
  },
  {
   "cell_type": "markdown",
   "id": "2bd426f4",
   "metadata": {},
   "source": [
    "# Q8: What percentage of total team goals were scored by the top 5 scorers?"
   ]
  },
  {
   "cell_type": "code",
   "execution_count": 21,
   "id": "aad63c4c",
   "metadata": {},
   "outputs": [
    {
     "data": {
      "text/plain": [
       "74.79"
      ]
     },
     "execution_count": 21,
     "metadata": {},
     "output_type": "execute_result"
    }
   ],
   "source": [
    "top5_goals = player_stats.sort_values(\"G\", ascending=False).head(5)[\"G\"].sum()\n",
    "total_goals_team = int(team_stats.loc[team_stats[\"Statistic\"] == \"Total Goals\", \"SU\"].values[0])\n",
    "percent_goals_by_top5 = round((top5_goals / total_goals_team) * 100, 2)\n",
    "percent_goals_by_top5"
   ]
  },
  {
   "cell_type": "markdown",
   "id": "29efca5a",
   "metadata": {},
   "source": [
    "# Q9: Which players are the most efficient (high points, low turnovers)?"
   ]
  },
  {
   "cell_type": "code",
   "execution_count": 22,
   "id": "2704da42",
   "metadata": {},
   "outputs": [
    {
     "data": {
      "text/html": [
       "<div>\n",
       "<style scoped>\n",
       "    .dataframe tbody tr th:only-of-type {\n",
       "        vertical-align: middle;\n",
       "    }\n",
       "\n",
       "    .dataframe tbody tr th {\n",
       "        vertical-align: top;\n",
       "    }\n",
       "\n",
       "    .dataframe thead th {\n",
       "        text-align: right;\n",
       "    }\n",
       "</style>\n",
       "<table border=\"1\" class=\"dataframe\">\n",
       "  <thead>\n",
       "    <tr style=\"text-align: right;\">\n",
       "      <th></th>\n",
       "      <th>PLAYER</th>\n",
       "      <th>Pts</th>\n",
       "      <th>TO</th>\n",
       "      <th>Pts_TO_Ratio</th>\n",
       "    </tr>\n",
       "  </thead>\n",
       "  <tbody>\n",
       "    <tr>\n",
       "      <th>4</th>\n",
       "      <td>Sierra Cockerille</td>\n",
       "      <td>15</td>\n",
       "      <td>2</td>\n",
       "      <td>7.500000</td>\n",
       "    </tr>\n",
       "    <tr>\n",
       "      <th>9</th>\n",
       "      <td>Emma Tyrrell</td>\n",
       "      <td>5</td>\n",
       "      <td>1</td>\n",
       "      <td>5.000000</td>\n",
       "    </tr>\n",
       "    <tr>\n",
       "      <th>1</th>\n",
       "      <td>Megan Carney</td>\n",
       "      <td>29</td>\n",
       "      <td>7</td>\n",
       "      <td>4.142857</td>\n",
       "    </tr>\n",
       "    <tr>\n",
       "      <th>11</th>\n",
       "      <td>Cara Quimby</td>\n",
       "      <td>4</td>\n",
       "      <td>1</td>\n",
       "      <td>4.000000</td>\n",
       "    </tr>\n",
       "    <tr>\n",
       "      <th>2</th>\n",
       "      <td>Meaghan Tyrrell</td>\n",
       "      <td>23</td>\n",
       "      <td>6</td>\n",
       "      <td>3.833333</td>\n",
       "    </tr>\n",
       "  </tbody>\n",
       "</table>\n",
       "</div>"
      ],
      "text/plain": [
       "               PLAYER  Pts  TO  Pts_TO_Ratio\n",
       "4   Sierra Cockerille   15   2      7.500000\n",
       "9        Emma Tyrrell    5   1      5.000000\n",
       "1        Megan Carney   29   7      4.142857\n",
       "11        Cara Quimby    4   1      4.000000\n",
       "2     Meaghan Tyrrell   23   6      3.833333"
      ]
     },
     "execution_count": 22,
     "metadata": {},
     "output_type": "execute_result"
    }
   ],
   "source": [
    "player_stats[\"Pts_TO_Ratio\"] = player_stats[\"Pts\"] / player_stats[\"TO\"].replace(0, 1)\n",
    "top_efficiency = player_stats.sort_values(\"Pts_TO_Ratio\", ascending=False)[[\"PLAYER\", \"Pts\", \"TO\", \"Pts_TO_Ratio\"]].head(5)\n",
    "top_efficiency"
   ]
  },
  {
   "cell_type": "code",
   "execution_count": 26,
   "id": "d6f93b15",
   "metadata": {},
   "outputs": [
    {
     "data": {
      "image/png": "[encoded data removed]",
      "text/plain": [
       "<Figure size 600x400 with 1 Axes>"
      ]
     },
     "metadata": {},
     "output_type": "display_data"
    }
   ],
   "source": [
    "import matplotlib.pyplot as plt\n",
    "import seaborn as sns\n",
    "\n",
    "# Set style\n",
    "plt.style.use(\"ggplot\")\n",
    "\n",
    "# Bar chart: SU goals in 1st vs 2nd half\n",
    "plt.figure(figsize=(6, 4))\n",
    "plt.bar([\"1st Half\", \"2nd Half\"], [su_goals_first, su_goals_second], color=[\"#6A5ACD\", \"#DC143C\"])\n",
    "plt.title(\"Syracuse Goals by Period\")\n",
    "plt.ylabel(\"Goals\")\n",
    "plt.xlabel(\"Period\")\n",
    "plt.show()\n"
   ]
  },
  {
   "cell_type": "code",
   "execution_count": 27,
   "id": "d0b1d6a0",
   "metadata": {},
   "outputs": [
    {
     "data": {
      "image/png": "[encoded data removed]",
      "text/plain": [
       "<Figure size 800x500 with 1 Axes>"
      ]
     },
     "metadata": {},
     "output_type": "display_data"
    }
   ],
   "source": [
    "# Stacked bar chart for top 5 balanced players\n",
    "top_balanced.set_index(\"PLAYER\")[[\"Offense\", \"Defense\"]].plot(\n",
    "    kind=\"bar\", stacked=True, figsize=(8, 5), color=[\"#4682B4\", \"#8B0000\"]\n",
    ")\n",
    "plt.title(\"Top Balanced Players (Offense + Defense)\")\n",
    "plt.ylabel(\"Contribution\")\n",
    "plt.xlabel(\"Player\")\n",
    "plt.xticks(rotation=45)\n",
    "plt.legend(loc=\"upper right\")\n",
    "plt.tight_layout()\n",
    "plt.show()\n"
   ]
  },
  {
   "cell_type": "code",
   "execution_count": 28,
   "id": "b7f966ed",
   "metadata": {},
   "outputs": [
    {
     "data": {
      "image/png": "[encoded data removed]",
      "text/plain": [
       "<Figure size 600x600 with 1 Axes>"
      ]
     },
     "metadata": {},
     "output_type": "display_data"
    }
   ],
   "source": [
    "# Pie chart: goals scored by top 5 vs rest of team\n",
    "labels = [\"Top 5 Scorers\", \"Rest of Team\"]\n",
    "sizes = [percent_goals_by_top5, 100 - percent_goals_by_top5]\n",
    "colors = [\"#FF6347\", \"#20B2AA\"]\n",
    "\n",
    "plt.figure(figsize=(6, 6))\n",
    "plt.pie(sizes, labels=labels, autopct=\"%1.1f%%\", startangle=140, colors=colors)\n",
    "plt.title(\"Contribution of Top 5 Scorers to Team Goals\")\n",
    "plt.show()\n"
   ]
  },
  {
   "cell_type": "code",
   "execution_count": 29,
   "id": "22b17026",
   "metadata": {},
   "outputs": [
    {
     "name": "stderr",
     "output_type": "stream",
     "text": [
      "C:\\Users\\abhis\\AppData\\Local\\Temp\\ipykernel_20432\\2460867947.py:3: FutureWarning: \n",
      "\n",
      "Passing `palette` without assigning `hue` is deprecated and will be removed in v0.14.0. Assign the `x` variable to `hue` and set `legend=False` for the same effect.\n",
      "\n",
      "  sns.barplot(data=top_efficiency, x=\"PLAYER\", y=\"Pts_TO_Ratio\", palette=\"viridis\")\n"
     ]
    },
    {
     "data": {
      "image/png": "[encoded data removed]",
      "text/plain": [
       "<Figure size 800x500 with 1 Axes>"
      ]
     },
     "metadata": {},
     "output_type": "display_data"
    }
   ],
   "source": [
    "# Bar chart: Pts-to-Turnover ratio\n",
    "plt.figure(figsize=(8, 5))\n",
    "sns.barplot(data=top_efficiency, x=\"PLAYER\", y=\"Pts_TO_Ratio\", palette=\"viridis\")\n",
    "plt.title(\"Top 5 Efficient Players (Pts / TO)\")\n",
    "plt.ylabel(\"Points per Turnover\")\n",
    "plt.xlabel(\"Player\")\n",
    "plt.xticks(rotation=45)\n",
    "plt.tight_layout()\n",
    "plt.show()\n"
   ]
  }
 ],
 "metadata": {
  "kernelspec": {
   "display_name": "base",
   "language": "python",
   "name": "python3"
  },
  "language_info": {
   "codemirror_mode": {
    "name": "ipython",
    "version": 3
   },
   "file_extension": ".py",
   "mimetype": "text/x-python",
   "name": "python",
   "nbconvert_exporter": "python",
   "pygments_lexer": "ipython3",
   "version": "3.11.5"
  }
 },
 "nbformat": 4,
 "nbformat_minor": 5
}
